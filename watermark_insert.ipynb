{
  "nbformat": 4,
  "nbformat_minor": 0,
  "metadata": {
    "colab": {
      "provenance": [],
      "authorship_tag": "ABX9TyMuQ/oXCWgABuCpdrUDUTAe",
      "include_colab_link": true
    },
    "kernelspec": {
      "name": "python3",
      "display_name": "Python 3"
    },
    "language_info": {
      "name": "python"
    }
  },
  "cells": [
    {
      "cell_type": "markdown",
      "metadata": {
        "id": "view-in-github",
        "colab_type": "text"
      },
      "source": [
        "<a href=\"https://colab.research.google.com/github/mi0308/MyProject/blob/master/watermark_insert.ipynb\" target=\"_parent\"><img src=\"https://colab.research.google.com/assets/colab-badge.svg\" alt=\"Open In Colab\"/></a>"
      ]
    },
    {
      "cell_type": "code",
      "execution_count": 1,
      "metadata": {
        "colab": {
          "base_uri": "https://localhost:8080/"
        },
        "id": "wnSdcNP82kDS",
        "outputId": "2280e0e7-bfe8-4bd7-a7f9-061ae15c8cde"
      },
      "outputs": [
        {
          "output_type": "stream",
          "name": "stdout",
          "text": [
            "Requirement already satisfied: pillow in /usr/local/lib/python3.10/dist-packages (8.4.0)\n"
          ]
        }
      ],
      "source": [
        "!pip install pillow\n"
      ]
    },
    {
      "cell_type": "code",
      "source": [
        "from PIL import Image\n",
        "\n",
        "def add_watermark_to_image(input_image_path, output_image_path, watermark_path, position):\n",
        "    # 이미지와 워터마크 열기\n",
        "    image = Image.open(input_image_path)\n",
        "    watermark = Image.open(watermark_path)\n",
        "\n",
        "    # 워터마크 크기 조절 (예: 이미지 너비의 0.2 배)\n",
        "    watermark_width = int(image.width * 0.2)\n",
        "    watermark_height = int(watermark_width * watermark.height / watermark.width)\n",
        "    watermark = watermark.resize((watermark_width, watermark_height), Image.ANTIALIAS)\n",
        "\n",
        "    # 워터마크를 이미지 우측하단에 삽입\n",
        "    image.paste(watermark, position, watermark)\n",
        "\n",
        "    # 변경된 이미지 저장\n",
        "    image.save(output_image_path)\n",
        "\n",
        "# sample_images 폴더에 있는 모든 jpg 이미지들에 워터마크를 삽입\n",
        "import os\n",
        "\n",
        "# 워터마크를 삽입할 위치 (우측하단 기준, (x, y) 형태)\n",
        "watermark_position = (0, 0)  # (0, 0)일 경우 우측하단에 붙임\n",
        "\n",
        "# sample_images 폴더 경로\n",
        "input_folder = \"sample_images\"\n",
        "output_folder = \"images_with_watermark\"\n",
        "\n",
        "# output_folder가 없으면 생성\n",
        "if not os.path.exists(output_folder):\n",
        "    os.makedirs(output_folder)\n",
        "\n",
        "# sample_images 폴더의 모든 jpg 이미지들에 워터마크 삽입\n",
        "for filename in os.listdir(input_folder):\n",
        "    if filename.endswith(\".jpg\"):\n",
        "        input_image_path = os.path.join(input_folder, filename)\n",
        "        output_image_path = os.path.join(output_folder, filename)\n",
        "        watermark_path = \"watermark.png\"  # 워터마크 파일 경로\n",
        "        add_watermark_to_image(input_image_path, output_image_path, watermark_path, watermark_position)\n"
      ],
      "metadata": {
        "colab": {
          "base_uri": "https://localhost:8080/",
          "height": 348
        },
        "id": "aduE18b043Lr",
        "outputId": "2b430142-0759-4465-d154-c6dd555b53d0"
      },
      "execution_count": 8,
      "outputs": [
        {
          "output_type": "error",
          "ename": "ValueError",
          "evalue": "ignored",
          "traceback": [
            "\u001b[0;31m---------------------------------------------------------------------------\u001b[0m",
            "\u001b[0;31mValueError\u001b[0m                                Traceback (most recent call last)",
            "\u001b[0;32m<ipython-input-8-0ff7c2235bfe>\u001b[0m in \u001b[0;36m<cell line: 34>\u001b[0;34m()\u001b[0m\n\u001b[1;32m     37\u001b[0m         \u001b[0moutput_image_path\u001b[0m \u001b[0;34m=\u001b[0m \u001b[0mos\u001b[0m\u001b[0;34m.\u001b[0m\u001b[0mpath\u001b[0m\u001b[0;34m.\u001b[0m\u001b[0mjoin\u001b[0m\u001b[0;34m(\u001b[0m\u001b[0moutput_folder\u001b[0m\u001b[0;34m,\u001b[0m \u001b[0mfilename\u001b[0m\u001b[0;34m)\u001b[0m\u001b[0;34m\u001b[0m\u001b[0;34m\u001b[0m\u001b[0m\n\u001b[1;32m     38\u001b[0m         \u001b[0mwatermark_path\u001b[0m \u001b[0;34m=\u001b[0m \u001b[0;34m\"watermark.png\"\u001b[0m  \u001b[0;31m# 워터마크 파일 경로\u001b[0m\u001b[0;34m\u001b[0m\u001b[0;34m\u001b[0m\u001b[0m\n\u001b[0;32m---> 39\u001b[0;31m         \u001b[0madd_watermark_to_image\u001b[0m\u001b[0;34m(\u001b[0m\u001b[0minput_image_path\u001b[0m\u001b[0;34m,\u001b[0m \u001b[0moutput_image_path\u001b[0m\u001b[0;34m,\u001b[0m \u001b[0mwatermark_path\u001b[0m\u001b[0;34m,\u001b[0m \u001b[0mwatermark_position\u001b[0m\u001b[0;34m)\u001b[0m\u001b[0;34m\u001b[0m\u001b[0;34m\u001b[0m\u001b[0m\n\u001b[0m",
            "\u001b[0;32m<ipython-input-8-0ff7c2235bfe>\u001b[0m in \u001b[0;36madd_watermark_to_image\u001b[0;34m(input_image_path, output_image_path, watermark_path, position)\u001b[0m\n\u001b[1;32m     12\u001b[0m \u001b[0;34m\u001b[0m\u001b[0m\n\u001b[1;32m     13\u001b[0m     \u001b[0;31m# 워터마크를 이미지 우측하단에 삽입\u001b[0m\u001b[0;34m\u001b[0m\u001b[0;34m\u001b[0m\u001b[0m\n\u001b[0;32m---> 14\u001b[0;31m     \u001b[0mimage\u001b[0m\u001b[0;34m.\u001b[0m\u001b[0mpaste\u001b[0m\u001b[0;34m(\u001b[0m\u001b[0mwatermark\u001b[0m\u001b[0;34m,\u001b[0m \u001b[0mposition\u001b[0m\u001b[0;34m,\u001b[0m \u001b[0mwatermark\u001b[0m\u001b[0;34m)\u001b[0m\u001b[0;34m\u001b[0m\u001b[0;34m\u001b[0m\u001b[0m\n\u001b[0m\u001b[1;32m     15\u001b[0m \u001b[0;34m\u001b[0m\u001b[0m\n\u001b[1;32m     16\u001b[0m     \u001b[0;31m# 변경된 이미지 저장\u001b[0m\u001b[0;34m\u001b[0m\u001b[0;34m\u001b[0m\u001b[0m\n",
            "\u001b[0;32m/usr/local/lib/python3.10/dist-packages/PIL/Image.py\u001b[0m in \u001b[0;36mpaste\u001b[0;34m(self, im, box, mask)\u001b[0m\n\u001b[1;32m   1584\u001b[0m         \u001b[0;32mif\u001b[0m \u001b[0mmask\u001b[0m\u001b[0;34m:\u001b[0m\u001b[0;34m\u001b[0m\u001b[0;34m\u001b[0m\u001b[0m\n\u001b[1;32m   1585\u001b[0m             \u001b[0mmask\u001b[0m\u001b[0;34m.\u001b[0m\u001b[0mload\u001b[0m\u001b[0;34m(\u001b[0m\u001b[0;34m)\u001b[0m\u001b[0;34m\u001b[0m\u001b[0;34m\u001b[0m\u001b[0m\n\u001b[0;32m-> 1586\u001b[0;31m             \u001b[0mself\u001b[0m\u001b[0;34m.\u001b[0m\u001b[0mim\u001b[0m\u001b[0;34m.\u001b[0m\u001b[0mpaste\u001b[0m\u001b[0;34m(\u001b[0m\u001b[0mim\u001b[0m\u001b[0;34m,\u001b[0m \u001b[0mbox\u001b[0m\u001b[0;34m,\u001b[0m \u001b[0mmask\u001b[0m\u001b[0;34m.\u001b[0m\u001b[0mim\u001b[0m\u001b[0;34m)\u001b[0m\u001b[0;34m\u001b[0m\u001b[0;34m\u001b[0m\u001b[0m\n\u001b[0m\u001b[1;32m   1587\u001b[0m         \u001b[0;32melse\u001b[0m\u001b[0;34m:\u001b[0m\u001b[0;34m\u001b[0m\u001b[0;34m\u001b[0m\u001b[0m\n\u001b[1;32m   1588\u001b[0m             \u001b[0mself\u001b[0m\u001b[0;34m.\u001b[0m\u001b[0mim\u001b[0m\u001b[0;34m.\u001b[0m\u001b[0mpaste\u001b[0m\u001b[0;34m(\u001b[0m\u001b[0mim\u001b[0m\u001b[0;34m,\u001b[0m \u001b[0mbox\u001b[0m\u001b[0;34m)\u001b[0m\u001b[0;34m\u001b[0m\u001b[0;34m\u001b[0m\u001b[0m\n",
            "\u001b[0;31mValueError\u001b[0m: bad transparency mask"
          ]
        }
      ]
    },
    {
      "cell_type": "code",
      "source": [
        "from PIL import Image\n",
        "\n",
        "def add_watermark_to_image(input_image_path, output_image_path, watermark_path, position):\n",
        "    # 이미지와 워터마크 열기\n",
        "    image = Image.open(input_image_path)\n",
        "    watermark = Image.open(watermark_path)\n",
        "\n",
        "    # 워터마크 크기 조절 (예: 이미지 너비의 0.2 배)\n",
        "    watermark_width = int(image.width * 0.2)\n",
        "    watermark_height = int(watermark_width * watermark.height / watermark.width)\n",
        "    watermark = watermark.resize((watermark_width, watermark_height), Image.ANTIALIAS)\n",
        "\n",
        "    # 워터마크 삽입 위치 계산\n",
        "    x_offset = image.width - watermark.width - position[0]\n",
        "    y_offset = image.height - watermark.height - position[1]\n",
        "\n",
        "    # 워터마크를 이미지 우측하단에 삽입\n",
        "    image.paste(watermark, (x_offset, y_offset), watermark)\n",
        "\n",
        "    # 변경된 이미지 저장\n",
        "    image.save(output_image_path)\n",
        "\n",
        "# sample_images 폴더에 있는 모든 jpg 이미지들에 워터마크를 삽입\n",
        "import os\n",
        "\n",
        "# 워터마크를 삽입할 위치 (우측하단 기준, (x, y) 형태)\n",
        "watermark_position = (0, 0)  # (0, 0)일 경우 우측하단에 붙임\n",
        "\n",
        "# sample_images 폴더 경로\n",
        "input_folder = \"sample_images\"\n",
        "output_folder = \"images_with_watermark\"\n",
        "\n",
        "# output_folder가 없으면 생성\n",
        "if not os.path.exists(output_folder):\n",
        "    os.makedirs(output_folder)\n",
        "\n",
        "# sample_images 폴더의 모든 jpg 이미지들에 워터마크 삽입\n",
        "for filename in os.listdir(input_folder):\n",
        "    if filename.endswith(\".jpg\"):\n",
        "        input_image_path = os.path.join(input_folder, filename)\n",
        "        output_image_path = os.path.join(output_folder, filename)\n",
        "        watermark_path = \"watermark.png\"  # 워터마크 파일 경로\n",
        "        add_watermark_to_image(input_image_path, output_image_path, watermark_path, watermark_position)\n"
      ],
      "metadata": {
        "colab": {
          "base_uri": "https://localhost:8080/",
          "height": 470
        },
        "id": "XJxMIgWp8aD_",
        "outputId": "7c5bb112-185e-47e7-d38e-b7775d465ffd"
      },
      "execution_count": 9,
      "outputs": [
        {
          "output_type": "error",
          "ename": "ValueError",
          "evalue": "ignored",
          "traceback": [
            "\u001b[0;31m---------------------------------------------------------------------------\u001b[0m",
            "\u001b[0;31mValueError\u001b[0m                                Traceback (most recent call last)",
            "\u001b[0;32m<ipython-input-9-0ba73a8ad928>\u001b[0m in \u001b[0;36m<cell line: 38>\u001b[0;34m()\u001b[0m\n\u001b[1;32m     41\u001b[0m         \u001b[0moutput_image_path\u001b[0m \u001b[0;34m=\u001b[0m \u001b[0mos\u001b[0m\u001b[0;34m.\u001b[0m\u001b[0mpath\u001b[0m\u001b[0;34m.\u001b[0m\u001b[0mjoin\u001b[0m\u001b[0;34m(\u001b[0m\u001b[0moutput_folder\u001b[0m\u001b[0;34m,\u001b[0m \u001b[0mfilename\u001b[0m\u001b[0;34m)\u001b[0m\u001b[0;34m\u001b[0m\u001b[0;34m\u001b[0m\u001b[0m\n\u001b[1;32m     42\u001b[0m         \u001b[0mwatermark_path\u001b[0m \u001b[0;34m=\u001b[0m \u001b[0;34m\"watermark.png\"\u001b[0m  \u001b[0;31m# 워터마크 파일 경로\u001b[0m\u001b[0;34m\u001b[0m\u001b[0;34m\u001b[0m\u001b[0m\n\u001b[0;32m---> 43\u001b[0;31m         \u001b[0madd_watermark_to_image\u001b[0m\u001b[0;34m(\u001b[0m\u001b[0minput_image_path\u001b[0m\u001b[0;34m,\u001b[0m \u001b[0moutput_image_path\u001b[0m\u001b[0;34m,\u001b[0m \u001b[0mwatermark_path\u001b[0m\u001b[0;34m,\u001b[0m \u001b[0mwatermark_position\u001b[0m\u001b[0;34m)\u001b[0m\u001b[0;34m\u001b[0m\u001b[0;34m\u001b[0m\u001b[0m\n\u001b[0m",
            "\u001b[0;32m<ipython-input-9-0ba73a8ad928>\u001b[0m in \u001b[0;36madd_watermark_to_image\u001b[0;34m(input_image_path, output_image_path, watermark_path, position)\u001b[0m\n\u001b[1;32m     16\u001b[0m \u001b[0;34m\u001b[0m\u001b[0m\n\u001b[1;32m     17\u001b[0m     \u001b[0;31m# 워터마크를 이미지 우측하단에 삽입\u001b[0m\u001b[0;34m\u001b[0m\u001b[0;34m\u001b[0m\u001b[0m\n\u001b[0;32m---> 18\u001b[0;31m     \u001b[0mimage\u001b[0m\u001b[0;34m.\u001b[0m\u001b[0mpaste\u001b[0m\u001b[0;34m(\u001b[0m\u001b[0mwatermark\u001b[0m\u001b[0;34m,\u001b[0m \u001b[0;34m(\u001b[0m\u001b[0mx_offset\u001b[0m\u001b[0;34m,\u001b[0m \u001b[0my_offset\u001b[0m\u001b[0;34m)\u001b[0m\u001b[0;34m,\u001b[0m \u001b[0mwatermark\u001b[0m\u001b[0;34m)\u001b[0m\u001b[0;34m\u001b[0m\u001b[0;34m\u001b[0m\u001b[0m\n\u001b[0m\u001b[1;32m     19\u001b[0m \u001b[0;34m\u001b[0m\u001b[0m\n\u001b[1;32m     20\u001b[0m     \u001b[0;31m# 변경된 이미지 저장\u001b[0m\u001b[0;34m\u001b[0m\u001b[0;34m\u001b[0m\u001b[0m\n",
            "\u001b[0;32m/usr/local/lib/python3.10/dist-packages/PIL/Image.py\u001b[0m in \u001b[0;36mpaste\u001b[0;34m(self, im, box, mask)\u001b[0m\n\u001b[1;32m   1584\u001b[0m         \u001b[0;32mif\u001b[0m \u001b[0mmask\u001b[0m\u001b[0;34m:\u001b[0m\u001b[0;34m\u001b[0m\u001b[0;34m\u001b[0m\u001b[0m\n\u001b[1;32m   1585\u001b[0m             \u001b[0mmask\u001b[0m\u001b[0;34m.\u001b[0m\u001b[0mload\u001b[0m\u001b[0;34m(\u001b[0m\u001b[0;34m)\u001b[0m\u001b[0;34m\u001b[0m\u001b[0;34m\u001b[0m\u001b[0m\n\u001b[0;32m-> 1586\u001b[0;31m             \u001b[0mself\u001b[0m\u001b[0;34m.\u001b[0m\u001b[0mim\u001b[0m\u001b[0;34m.\u001b[0m\u001b[0mpaste\u001b[0m\u001b[0;34m(\u001b[0m\u001b[0mim\u001b[0m\u001b[0;34m,\u001b[0m \u001b[0mbox\u001b[0m\u001b[0;34m,\u001b[0m \u001b[0mmask\u001b[0m\u001b[0;34m.\u001b[0m\u001b[0mim\u001b[0m\u001b[0;34m)\u001b[0m\u001b[0;34m\u001b[0m\u001b[0;34m\u001b[0m\u001b[0m\n\u001b[0m\u001b[1;32m   1587\u001b[0m         \u001b[0;32melse\u001b[0m\u001b[0;34m:\u001b[0m\u001b[0;34m\u001b[0m\u001b[0;34m\u001b[0m\u001b[0m\n\u001b[1;32m   1588\u001b[0m             \u001b[0mself\u001b[0m\u001b[0;34m.\u001b[0m\u001b[0mim\u001b[0m\u001b[0;34m.\u001b[0m\u001b[0mpaste\u001b[0m\u001b[0;34m(\u001b[0m\u001b[0mim\u001b[0m\u001b[0;34m,\u001b[0m \u001b[0mbox\u001b[0m\u001b[0;34m)\u001b[0m\u001b[0;34m\u001b[0m\u001b[0;34m\u001b[0m\u001b[0m\n",
            "\u001b[0;31mValueError\u001b[0m: bad transparency mask"
          ]
        }
      ]
    },
    {
      "cell_type": "code",
      "source": [
        "from PIL import Image\n",
        "\n",
        "def add_watermark_to_image(input_image_path, output_image_path, watermark_path, position):\n",
        "    # 이미지와 워터마크 열기\n",
        "    image = Image.open(input_image_path)\n",
        "    watermark = Image.open(watermark_path)\n",
        "\n",
        "    # 워터마크 크기 조절 (예: 이미지 너비의 0.2 배)\n",
        "    watermark_width = int(image.width * 0.2)\n",
        "    watermark_height = int(watermark_width * watermark.height / watermark.width)\n",
        "    watermark = watermark.resize((watermark_width, watermark_height), Image.ANTIALIAS)\n",
        "\n",
        "    # 워터마크에 알파 채널 추가 (투명도 정보 지정)\n",
        "    watermark = watermark.convert(\"RGBA\")\n",
        "\n",
        "    # 워터마크 삽입 위치 계산\n",
        "    x_offset = image.width - watermark.width - position[0]\n",
        "    y_offset = image.height - watermark.height - position[1]\n",
        "\n",
        "    # 워터마크를 이미지 우측하단에 삽입\n",
        "    image.paste(watermark, (x_offset, y_offset), watermark)\n",
        "\n",
        "    # 변경된 이미지 저장\n",
        "    image.save(output_image_path)\n",
        "\n",
        "# sample_images 폴더에 있는 모든 jpg 이미지들에 워터마크를 삽입\n",
        "import os\n",
        "\n",
        "# 워터마크를 삽입할 위치 (우측하단 기준, (x, y) 형태)\n",
        "watermark_position = (0, 0)  # (0, 0)일 경우 우측하단에 붙임\n",
        "\n",
        "# sample_images 폴더 경로\n",
        "input_folder = \"sample_images\"\n",
        "output_folder = \"images_with_watermark\"\n",
        "\n",
        "# output_folder가 없으면 생성\n",
        "if not os.path.exists(output_folder):\n",
        "    os.makedirs(output_folder)\n",
        "\n",
        "# sample_images 폴더의 모든 jpg 이미지들에 워터마크 삽입\n",
        "for filename in os.listdir(input_folder):\n",
        "    if filename.endswith(\".jpg\"):\n",
        "        input_image_path = os.path.join(input_folder, filename)\n",
        "        output_image_path = os.path.join(output_folder, filename)\n",
        "        watermark_path = \"watermark.png\"  # 워터마크 파일 경로\n",
        "        add_watermark_to_image(input_image_path, output_image_path, watermark_path, watermark_position)\n"
      ],
      "metadata": {
        "id": "84M7MGO9-06g"
      },
      "execution_count": 10,
      "outputs": []
    }
  ]
}